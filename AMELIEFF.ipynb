{
  "nbformat": 4,
  "nbformat_minor": 0,
  "metadata": {
    "colab": {
      "name": "AMELIEFF.ipynb",
      "provenance": [],
      "collapsed_sections": [],
      "authorship_tag": "ABX9TyNoHmRn9bQqqAk6iLh3T6iZ",
      "include_colab_link": true
    },
    "kernelspec": {
      "name": "python3",
      "display_name": "Python 3"
    },
    "language_info": {
      "name": "python"
    }
  },
  "cells": [
    {
      "cell_type": "markdown",
      "metadata": {
        "id": "view-in-github",
        "colab_type": "text"
      },
      "source": [
        "<a href=\"https://colab.research.google.com/github/mika175/hello-world/blob/readme-editsmain/AMELIEFF.ipynb\" target=\"_parent\"><img src=\"https://colab.research.google.com/assets/colab-badge.svg\" alt=\"Open In Colab\"/></a>"
      ]
    },
    {
      "cell_type": "code",
      "source": [
        "!pip install biopython"
      ],
      "metadata": {
        "colab": {
          "base_uri": "https://localhost:8080/"
        },
        "id": "u_gyAiCFLEOh",
        "outputId": "e35af478-6943-44f1-87eb-890ad7bf404a"
      },
      "execution_count": null,
      "outputs": [
        {
          "output_type": "stream",
          "name": "stdout",
          "text": [
            "Collecting biopython\n",
            "  Downloading biopython-1.79-cp37-cp37m-manylinux_2_5_x86_64.manylinux1_x86_64.whl (2.3 MB)\n",
            "\u001b[K     |████████████████████████████████| 2.3 MB 5.1 MB/s \n",
            "\u001b[?25hRequirement already satisfied: numpy in /usr/local/lib/python3.7/dist-packages (from biopython) (1.21.6)\n",
            "Installing collected packages: biopython\n",
            "Successfully installed biopython-1.79\n"
          ]
        }
      ]
    },
    {
      "cell_type": "code",
      "execution_count": null,
      "metadata": {
        "id": "b66FiNA-I3zz"
      },
      "outputs": [],
      "source": [
        "# 5-17\n",
        "from Bio import SeqIO"
      ]
    },
    {
      "cell_type": "code",
      "source": [
        "# 5-18\n",
        "fasta_file_name = 'sequence.fa'\n",
        "records = SeqIO.parse(fasta_file_name, 'fasta')"
      ],
      "metadata": {
        "id": "KQ3F5qx0Ln4S"
      },
      "execution_count": null,
      "outputs": []
    },
    {
      "cell_type": "code",
      "source": [
        "# 5-19\n",
        "type(records)"
      ],
      "metadata": {
        "colab": {
          "base_uri": "https://localhost:8080/"
        },
        "id": "uIP0Lp9rRJvY",
        "outputId": "e730ae28-70ee-4eba-a7c5-0db75433950f"
      },
      "execution_count": null,
      "outputs": [
        {
          "output_type": "execute_result",
          "data": {
            "text/plain": [
              "Bio.SeqIO.FastaIO.FastaIterator"
            ]
          },
          "metadata": {},
          "execution_count": 10
        }
      ]
    },
    {
      "cell_type": "code",
      "source": [
        "# 5-20\n",
        "r1 = next(records)\n",
        "\n",
        "# 5-21\n",
        "r1"
      ],
      "metadata": {
        "colab": {
          "base_uri": "https://localhost:8080/"
        },
        "id": "OZiTlQ0lRMxH",
        "outputId": "02bd1cd9-ec74-4d92-8af8-31f93f15063a"
      },
      "execution_count": null,
      "outputs": [
        {
          "output_type": "execute_result",
          "data": {
            "text/plain": [
              "SeqRecord(seq=Seq('AAGGCTAAAGCCAAGACTCTTTATCACACTGTGGCCTTAAGATTGGATTTCTCT...GAA'), id='chr1:119957553-119965662', name='chr1:119957553-119965662', description='chr1:119957553-119965662', dbxrefs=[])"
            ]
          },
          "metadata": {},
          "execution_count": 11
        }
      ]
    },
    {
      "cell_type": "code",
      "source": [
        "# 5-22\n",
        "print('ID:', r1.id)\n",
        "print('Description:', r1.description)\n",
        "print('Length:', len(r1))\n",
        "print('Features:', r1.features) # FASTAファイルなのでアノテーションは含まれていない（空のリスト）"
      ],
      "metadata": {
        "colab": {
          "base_uri": "https://localhost:8080/"
        },
        "id": "QlwN0OdmRcdM",
        "outputId": "d0a31474-a4d8-4369-e06a-9f18d08e877e"
      },
      "execution_count": null,
      "outputs": [
        {
          "output_type": "stream",
          "name": "stdout",
          "text": [
            "ID: chr1:119957553-119965662\n",
            "Description: chr1:119957553-119965662\n",
            "Length: 8109\n",
            "Features: []\n"
          ]
        }
      ]
    },
    {
      "cell_type": "code",
      "source": [
        "# 5-23\n",
        "r1_seq = r1.seq\n",
        "r1_seq"
      ],
      "metadata": {
        "colab": {
          "base_uri": "https://localhost:8080/"
        },
        "id": "JL1-FLD_SEsv",
        "outputId": "b01e6b35-36a3-43bf-b929-81016f5f7053"
      },
      "execution_count": null,
      "outputs": [
        {
          "output_type": "execute_result",
          "data": {
            "text/plain": [
              "Seq('AAGGCTAAAGCCAAGACTCTTTATCACACTGTGGCCTTAAGATTGGATTTCTCT...GAA')"
            ]
          },
          "metadata": {},
          "execution_count": 13
        }
      ]
    },
    {
      "cell_type": "code",
      "source": [
        "# 5-27\n",
        "records = SeqIO.parse(fasta_file_name, 'fasta')\n",
        "r1 = next(records)\n",
        "print(r1.format('fasta-2line')[:300]) # 長いので先頭の300文字のみ表示している"
      ],
      "metadata": {
        "colab": {
          "base_uri": "https://localhost:8080/"
        },
        "id": "BFghMP6LWJRM",
        "outputId": "a4950d27-92eb-49c7-b573-efede48e7983"
      },
      "execution_count": null,
      "outputs": [
        {
          "output_type": "stream",
          "name": "stdout",
          "text": [
            ">chr1:119957553-119965662\n",
            "AAGGCTAAAGCCAAGACTCTTTATCACACTGTGGCCTTAAGATTGGATTTCTCTTCCTGTTCCTGGGAAGAATTAGAGATATAACCTAAAGGTCACTATTATTCTGAGAAAAGGGATTCTGGAGGAGGAGGGAGCAATGAGTATGTGGCAGGAGTTCAAGGTAATAAGGGCTGAGACACAAGCCACAGAGCATAAAGCTCCAGTCCTTCCTCCAGGGATGAGGCAGTAAGGACTTGGACTCCTCTGTCCAGCTTTTAACAATCTAAGTTACGGT\n"
          ]
        }
      ]
    },
    {
      "cell_type": "code",
      "source": [
        "# 5-28\n",
        "records = SeqIO.parse(fasta_file_name, 'fasta')\n",
        "for r in records:\n",
        "  print('[>', r.id,']')\n",
        "  #print(r.seq) \n",
        "  print(\"A:\",r.seq.upper().count(\"A\"))\n",
        "  print(\"T:\",r.seq.upper().count(\"T\"))\n",
        "  print(\"G:\",r.seq.upper().count(\"G\"))\n",
        "  print(\"C:\",r.seq.upper().count(\"C\"))\n",
        "  print('----')\n"
      ],
      "metadata": {
        "colab": {
          "base_uri": "https://localhost:8080/"
        },
        "id": "5Tv1rSYBbIDs",
        "outputId": "d03051cb-e0f4-46ee-9e94-b78dec476125"
      },
      "execution_count": 68,
      "outputs": [
        {
          "output_type": "stream",
          "name": "stdout",
          "text": [
            "[> chr1:119957553-119965662 ]\n",
            "A: 2290\n",
            "T: 2268\n",
            "G: 1678\n",
            "C: 1873\n",
            "----\n",
            "[> chr10:115939028-115992063 ]\n",
            "A: 14135\n",
            "T: 18185\n",
            "G: 10536\n",
            "C: 10179\n",
            "----\n",
            "[> chr11:1244294-1283406 ]\n",
            "A: 7147\n",
            "T: 6324\n",
            "G: 11641\n",
            "C: 14000\n",
            "----\n",
            "[> chr11:5905522-5906461 ]\n",
            "A: 211\n",
            "T: 319\n",
            "G: 174\n",
            "C: 235\n",
            "----\n",
            "[> chr11:62037629-62040628 ]\n",
            "A: 974\n",
            "T: 806\n",
            "G: 577\n",
            "C: 642\n",
            "----\n",
            "[> chr11:67429632-67448685 ]\n",
            "A: 4454\n",
            "T: 4582\n",
            "G: 5251\n",
            "C: 4766\n",
            "----\n",
            "[> chr12:111471827-111788358 ]\n",
            "A: 78489\n",
            "T: 82047\n",
            "G: 78857\n",
            "C: 77138\n",
            "----\n",
            "[> chr12:52679696-52685299 ]\n",
            "A: 1145\n",
            "T: 1197\n",
            "G: 1517\n",
            "C: 1744\n",
            "----\n",
            "[> chr13:53418108-53422775 ]\n",
            "A: 911\n",
            "T: 888\n",
            "G: 1458\n",
            "C: 1410\n",
            "----\n",
            "[> chr13:114451483-114454062 ]\n",
            "A: 462\n",
            "T: 642\n",
            "G: 802\n",
            "C: 673\n",
            "----\n"
          ]
        }
      ]
    }
  ]
}